{
 "cells": [
  {
   "cell_type": "code",
   "execution_count": 1,
   "metadata": {
    "colab": {
     "base_uri": "https://localhost:8080/"
    },
    "id": "DnIxhukNJShg",
    "outputId": "9c5954dc-d3b9-4a89-862d-499af9205d71"
   },
   "outputs": [
    {
     "name": "stdout",
     "output_type": "stream",
     "text": [
      "Requirement already satisfied: pip in c:\\programdata\\anaconda3\\lib\\site-packages (22.2.2)\n",
      "Requirement already satisfied: pymupdf in c:\\programdata\\anaconda3\\lib\\site-packages (1.20.2)\n",
      "Requirement already satisfied: tqdm in c:\\programdata\\anaconda3\\lib\\site-packages (4.64.0)\n",
      "Requirement already satisfied: colorama in c:\\programdata\\anaconda3\\lib\\site-packages (from tqdm) (0.4.4)\n",
      "Requirement already satisfied: tqdm in c:\\programdata\\anaconda3\\lib\\site-packages (4.64.0)\n",
      "Requirement already satisfied: colorama in c:\\programdata\\anaconda3\\lib\\site-packages (from tqdm) (0.4.4)\n",
      "Requirement already satisfied: pytesseract in c:\\programdata\\anaconda3\\lib\\site-packages (0.3.10)\n",
      "Requirement already satisfied: packaging>=21.3 in c:\\programdata\\anaconda3\\lib\\site-packages (from pytesseract) (21.3)\n",
      "Requirement already satisfied: Pillow>=8.0.0 in c:\\programdata\\anaconda3\\lib\\site-packages (from pytesseract) (9.0.1)\n",
      "Requirement already satisfied: pyparsing!=3.0.5,>=2.0.2 in c:\\programdata\\anaconda3\\lib\\site-packages (from packaging>=21.3->pytesseract) (3.0.4)\n",
      "Requirement already satisfied: pillow in c:\\programdata\\anaconda3\\lib\\site-packages (9.0.1)\n"
     ]
    }
   ],
   "source": [
    "!pip install --upgrade pip\n",
    "!pip install --upgrade pymupdf\n",
    "!pip install tqdm\n",
    "!pip install tqdm\n",
    "\n",
    "#Tesseract installs\n",
    "!pip install pytesseract\n",
    "!pip install pillow"
   ]
  },
  {
   "cell_type": "code",
   "execution_count": 1,
   "metadata": {
    "id": "qvZr6djRNnVZ"
   },
   "outputs": [],
   "source": [
    "import io\n",
    "from PIL import Image\n",
    "import os\n",
    "import fitz\n",
    "from tqdm import tqdm"
   ]
  },
  {
   "cell_type": "code",
   "execution_count": 3,
   "metadata": {
    "colab": {
     "base_uri": "https://localhost:8080/"
    },
    "id": "addmo8YnJj4G",
    "outputId": "4a4e1030-6f7d-4525-8ce3-ea4ab93a1eeb"
   },
   "outputs": [
    {
     "name": "stderr",
     "output_type": "stream",
     "text": [
      "pages:   0%|                                                                                     | 0/8 [00:00<?, ?it/s]\n",
      "page_images: 0it [00:00, ?it/s]\u001b[A\n",
      "\n",
      "page_images: 0it [00:00, ?it/s]\u001b[A\n",
      "\n",
      "page_images: 100%|███████████████████████████████████████████████████████████████████████| 1/1 [00:00<00:00, 34.49it/s]\u001b[A\n",
      "\n",
      "page_images: 0it [00:00, ?it/s]\u001b[A\n",
      "\n",
      "page_images: 0it [00:00, ?it/s]\u001b[A\n",
      "\n",
      "page_images: 0it [00:00, ?it/s]\u001b[A\n",
      "\n",
      "page_images: 100%|███████████████████████████████████████████████████████████████████████| 4/4 [00:00<00:00, 59.70it/s]\u001b[A\n",
      "pages:  88%|███████████████████████████████████████████████████████████████████▍         | 7/8 [00:00<00:00, 62.50it/s]\n",
      "page_images: 0it [00:00, ?it/s]\u001b[A\n",
      "pages: 100%|█████████████████████████████████████████████████████████████████████████████| 8/8 [00:00<00:00, 70.18it/s]"
     ]
    },
    {
     "name": "stdout",
     "output_type": "stream",
     "text": [
      "Done!\n"
     ]
    },
    {
     "name": "stderr",
     "output_type": "stream",
     "text": [
      "\n"
     ]
    }
   ],
   "source": [
    "workdir = \"PDF\"\n",
    "\n",
    "for each_path in os.listdir(workdir):\n",
    "    if \".pdf\" in each_path:\n",
    "        doc = fitz.Document((os.path.join(workdir, each_path)))\n",
    "\n",
    "        for i in tqdm(range(len(doc)), desc=\"pages\"):\n",
    "            for img in tqdm(doc.get_page_images(i), desc=\"page_images\"):\n",
    "                xref = img[0]\n",
    "                image = doc.extract_image(xref)\n",
    "                pix = fitz.Pixmap(doc, xref)\n",
    "                pix.save(os.path.join(workdir, \"%s_p%s-%s.png\" % (each_path[:-4], i, xref)))\n",
    "                \n",
    "print(\"Done!\")"
   ]
  },
  {
   "cell_type": "code",
   "execution_count": 4,
   "metadata": {
    "id": "jpZWNRqIQAG2"
   },
   "outputs": [
    {
     "name": "stdout",
     "output_type": "stream",
     "text": [
      "Parameters Default Values\n",
      "\n",
      "Function Name Variables that receive The initial values used\n",
      "Return Type Actual name of the aspecific datatype if the parameters are\n",
      "Data type of the result function that can be called that can be used in not supplied on\n",
      "returned by the function @.g. is_odd_cpp() the function’s body function call\n",
      "\n",
      "bool is_odd_cpp(int n = 10) {\n",
      "\n",
      "Body\n",
      "Statements in between {} that are\n",
      "run when the function is called\n",
      "\n",
      "}\n",
      "\n",
      "bool v = (n % 2 == 1);\n",
      "\n",
      "return v 7 Return Value\n",
      "_ Result made available from running body\n",
      "statements that matches the return type\n",
      "\n",
      "\n",
      "/tmp$ Rscript -e 'Rcpp::Rcpp.package.skeleton(\"samplePkg\")\n",
      "\n",
      "Creating directories .\n",
      "Creating DESCRIPTION .\n",
      "Creating NAMESPACE .\n",
      "Creating Read-and-delete-me ...\n",
      "Saving functions and data ...\n",
      "\n",
      "Making help files ...\n",
      "\n",
      "Done.\n",
      "\n",
      "Further steps are described in './samplePkg/Read-and-delete-me'\n",
      "\n",
      "adding Rcpp settings\n",
      "\n",
      ">> added Imports: Rcpp\n",
      "\n",
      ">> added LinkingTo: Rcpp\n",
      "\n",
      ">> added useDynLib directive to NAMESPACE\n",
      "\n",
      ">> added importFrom(Rcpp, evalCpp) directive to NAMESPACE\n",
      ">> added example src file using Rcpp attributes\n",
      "\n",
      ">> compiled Rcpp attributes\n",
      "\n",
      ">> added Rd file for rcpp_hello_world\n",
      "\n",
      "/tmp$ tree samplePkg/\n",
      "\n",
      "samplePka/\n",
      "\n",
      "|— DESCRIPTION\n",
      "\n",
      "[— man\n",
      "\n",
      "\\— repp_hello_world.rd\n",
      "\n",
      "| samplepkg-package.Rd\n",
      "\n",
      "[— NAMESPACE\n",
      "\n",
      "— R\n",
      "\\_ ReppExports.R\n",
      "\n",
      "}— Read-and-delete-me\n",
      "\n",
      "— sre\n",
      "\n",
      "|— RcppExports.cpp\n",
      "\n",
      "'— repp_hello_world.cpp\n",
      "\n",
      "3 directories, 8 files\n",
      "\n",
      "/emps Bf\n",
      "\n"
     ]
    }
   ],
   "source": [
    "#tesseract poging\n",
    "from PIL import Image\n",
    "from pytesseract import pytesseract\n",
    "\n",
    "#Define path to tessaract.exe\n",
    "path_to_tesseract = r'C:\\Program Files\\Tesseract-OCR\\tesseract.exe'\n",
    "\n",
    "#Point tessaract_cmd to tessaract.exe\n",
    "pytesseract.tesseract_cmd = path_to_tesseract\n",
    "\n",
    "\n",
    "workdir = \"PDF\"\n",
    "#os.path.join(workdir, each_path)\n",
    "\n",
    "for each_path in os.listdir(workdir):\n",
    "    if \".png\" in each_path:\n",
    "        #Open image with PIL\n",
    "        img = Image.open(os.path.join(workdir, each_path))\n",
    "        #Extract text from image\n",
    "        text = pytesseract.image_to_string(img)\n",
    "        print(text)"
   ]
  }
 ],
 "metadata": {
  "colab": {
   "collapsed_sections": [],
   "provenance": [],
   "toc_visible": true
  },
  "kernelspec": {
   "display_name": "Python 3 (ipykernel)",
   "language": "python",
   "name": "python3"
  },
  "language_info": {
   "codemirror_mode": {
    "name": "ipython",
    "version": 3
   },
   "file_extension": ".py",
   "mimetype": "text/x-python",
   "name": "python",
   "nbconvert_exporter": "python",
   "pygments_lexer": "ipython3",
   "version": "3.9.12"
  }
 },
 "nbformat": 4,
 "nbformat_minor": 1
}
