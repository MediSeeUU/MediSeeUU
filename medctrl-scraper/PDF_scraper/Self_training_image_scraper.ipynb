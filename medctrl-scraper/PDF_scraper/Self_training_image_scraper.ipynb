{
 "cells": [
  {
   "cell_type": "code",
   "execution_count": 1,
   "id": "5ec52a77",
   "metadata": {},
   "outputs": [
    {
     "ename": "KeyboardInterrupt",
     "evalue": "",
     "output_type": "error",
     "traceback": [
      "\u001b[1;31m---------------------------------------------------------------------------\u001b[0m",
      "\u001b[1;31mKeyboardInterrupt\u001b[0m                         Traceback (most recent call last)",
      "Input \u001b[1;32mIn [1]\u001b[0m, in \u001b[0;36m<cell line: 27>\u001b[1;34m()\u001b[0m\n\u001b[0;32m     25\u001b[0m font \u001b[38;5;241m=\u001b[39m ImageFont\u001b[38;5;241m.\u001b[39mtruetype(\u001b[38;5;124m\"\u001b[39m\u001b[38;5;124mLiberationMono-Regular.ttf\u001b[39m\u001b[38;5;124m\"\u001b[39m, \u001b[38;5;241m16\u001b[39m)\n\u001b[0;32m     26\u001b[0m \u001b[38;5;66;03m#The largest size needed\u001b[39;00m\n\u001b[1;32m---> 27\u001b[0m MS \u001b[38;5;241m=\u001b[39m \u001b[38;5;28;43mmax\u001b[39;49m\u001b[43m(\u001b[49m\u001b[43mfont\u001b[49m\u001b[38;5;241;43m.\u001b[39;49m\u001b[43mgetsize\u001b[49m\u001b[43m(\u001b[49m\u001b[43mSi\u001b[49m\u001b[43m)\u001b[49m\u001b[43m \u001b[49m\u001b[38;5;28;43;01mfor\u001b[39;49;00m\u001b[43m \u001b[49m\u001b[43mSi\u001b[49m\u001b[43m \u001b[49m\u001b[38;5;129;43;01min\u001b[39;49;00m\u001b[43m \u001b[49m\u001b[43mS\u001b[49m\u001b[43m)\u001b[49m\n\u001b[0;32m     28\u001b[0m \u001b[38;5;66;03m#Computed offset\u001b[39;00m\n\u001b[0;32m     29\u001b[0m OFS \u001b[38;5;241m=\u001b[39m ((\u001b[38;5;241m640\u001b[39m \u001b[38;5;241m-\u001b[39m MS[\u001b[38;5;241m0\u001b[39m]) \u001b[38;5;241m/\u001b[39m\u001b[38;5;241m/\u001b[39m \u001b[38;5;241m2\u001b[39m, (\u001b[38;5;241m32\u001b[39m \u001b[38;5;241m-\u001b[39m MS[\u001b[38;5;241m1\u001b[39m]) \u001b[38;5;241m/\u001b[39m\u001b[38;5;241m/\u001b[39m \u001b[38;5;241m2\u001b[39m)\n",
      "Input \u001b[1;32mIn [1]\u001b[0m, in \u001b[0;36m<genexpr>\u001b[1;34m(.0)\u001b[0m\n\u001b[0;32m     25\u001b[0m font \u001b[38;5;241m=\u001b[39m ImageFont\u001b[38;5;241m.\u001b[39mtruetype(\u001b[38;5;124m\"\u001b[39m\u001b[38;5;124mLiberationMono-Regular.ttf\u001b[39m\u001b[38;5;124m\"\u001b[39m, \u001b[38;5;241m16\u001b[39m)\n\u001b[0;32m     26\u001b[0m \u001b[38;5;66;03m#The largest size needed\u001b[39;00m\n\u001b[1;32m---> 27\u001b[0m MS \u001b[38;5;241m=\u001b[39m \u001b[38;5;28mmax\u001b[39m(\u001b[43mfont\u001b[49m\u001b[38;5;241;43m.\u001b[39;49m\u001b[43mgetsize\u001b[49m\u001b[43m(\u001b[49m\u001b[43mSi\u001b[49m\u001b[43m)\u001b[49m \u001b[38;5;28;01mfor\u001b[39;00m Si \u001b[38;5;129;01min\u001b[39;00m S)\n\u001b[0;32m     28\u001b[0m \u001b[38;5;66;03m#Computed offset\u001b[39;00m\n\u001b[0;32m     29\u001b[0m OFS \u001b[38;5;241m=\u001b[39m ((\u001b[38;5;241m640\u001b[39m \u001b[38;5;241m-\u001b[39m MS[\u001b[38;5;241m0\u001b[39m]) \u001b[38;5;241m/\u001b[39m\u001b[38;5;241m/\u001b[39m \u001b[38;5;241m2\u001b[39m, (\u001b[38;5;241m32\u001b[39m \u001b[38;5;241m-\u001b[39m MS[\u001b[38;5;241m1\u001b[39m]) \u001b[38;5;241m/\u001b[39m\u001b[38;5;241m/\u001b[39m \u001b[38;5;241m2\u001b[39m)\n",
      "File \u001b[1;32mC:\\ProgramData\\Anaconda3\\lib\\site-packages\\PIL\\ImageFont.py:421\u001b[0m, in \u001b[0;36mFreeTypeFont.getsize\u001b[1;34m(self, text, direction, features, language, stroke_width)\u001b[0m\n\u001b[0;32m    369\u001b[0m \u001b[38;5;124;03m\"\"\"\u001b[39;00m\n\u001b[0;32m    370\u001b[0m \u001b[38;5;124;03mReturns width and height (in pixels) of given text if rendered in font with\u001b[39;00m\n\u001b[0;32m    371\u001b[0m \u001b[38;5;124;03mprovided direction, features, and language.\u001b[39;00m\n\u001b[1;32m   (...)\u001b[0m\n\u001b[0;32m    417\u001b[0m \u001b[38;5;124;03m:return: (width, height)\u001b[39;00m\n\u001b[0;32m    418\u001b[0m \u001b[38;5;124;03m\"\"\"\u001b[39;00m\n\u001b[0;32m    419\u001b[0m \u001b[38;5;66;03m# vertical offset is added for historical reasons\u001b[39;00m\n\u001b[0;32m    420\u001b[0m \u001b[38;5;66;03m# see https://github.com/python-pillow/Pillow/pull/4910#discussion_r486682929\u001b[39;00m\n\u001b[1;32m--> 421\u001b[0m size, offset \u001b[38;5;241m=\u001b[39m \u001b[38;5;28mself\u001b[39m\u001b[38;5;241m.\u001b[39mfont\u001b[38;5;241m.\u001b[39mgetsize(text, \u001b[38;5;124m\"\u001b[39m\u001b[38;5;124mL\u001b[39m\u001b[38;5;124m\"\u001b[39m, direction, features, language)\n\u001b[0;32m    422\u001b[0m \u001b[38;5;28;01mreturn\u001b[39;00m (\n\u001b[0;32m    423\u001b[0m     size[\u001b[38;5;241m0\u001b[39m] \u001b[38;5;241m+\u001b[39m stroke_width \u001b[38;5;241m*\u001b[39m \u001b[38;5;241m2\u001b[39m,\n\u001b[0;32m    424\u001b[0m     size[\u001b[38;5;241m1\u001b[39m] \u001b[38;5;241m+\u001b[39m stroke_width \u001b[38;5;241m*\u001b[39m \u001b[38;5;241m2\u001b[39m \u001b[38;5;241m+\u001b[39m offset[\u001b[38;5;241m1\u001b[39m],\n\u001b[0;32m    425\u001b[0m )\n",
      "\u001b[1;31mKeyboardInterrupt\u001b[0m: "
     ]
    }
   ],
   "source": [
    "import numpy as np\n",
    "import string\n",
    "from PIL import Image, ImageFont, ImageDraw\n",
    " \n",
    "def MakeImg(t, f, fn, s = (100, 100), o = (16, 8)):\n",
    "    '''\n",
    "    Generate an image of text\n",
    "    t:      The text to display in the image\n",
    "    f:      The font to use\n",
    "    fn:     The file name\n",
    "    s:      The image size\n",
    "    o:      The offest of the text in the image\n",
    "    '''\n",
    "    img = Image.new('RGB', s, \"black\")\n",
    "    draw = ImageDraw.Draw(img)\n",
    "    draw.text(OFS, t, (255, 255, 255), font = f)\n",
    "    img.save(fn)\n",
    " \n",
    "#The possible characters to use\n",
    "CS = list(string.ascii_letters) + list(string.digits)\n",
    "RTS = list(np.random.randint(10, 64, size = 8192)) + [64]\n",
    "#The random strings\n",
    "S = [''.join(np.random.choice(CS, i)) for i in RTS]\n",
    "#Get the font\n",
    "font = ImageFont.truetype(\"LiberationMono-Regular.ttf\", 16)\n",
    "#The largest size needed\n",
    "MS = max(font.getsize(Si) for Si in S)\n",
    "#Computed offset\n",
    "OFS = ((640 - MS[0]) // 2, (32 - MS[1]) // 2)\n",
    "#Image size\n",
    "MS = (640, 32)\n",
    "Y = []\n",
    "for i, Si in enumerate(S):\n",
    "    MakeImg(Si, font, str(i) + '.png', MS, OFS)\n",
    "    Y.append(str(i) + '.png,' + Si)\n",
    "#Write CSV file\n",
    "with open('Train.csv', 'w') as F:\n",
    "    F.write('\\n'.join(Y))"
   ]
  },
  {
   "cell_type": "code",
   "execution_count": null,
   "id": "d75800e0",
   "metadata": {},
   "outputs": [],
   "source": []
  }
 ],
 "metadata": {
  "kernelspec": {
   "display_name": "Python 3 (ipykernel)",
   "language": "python",
   "name": "python3"
  },
  "language_info": {
   "codemirror_mode": {
    "name": "ipython",
    "version": 3
   },
   "file_extension": ".py",
   "mimetype": "text/x-python",
   "name": "python",
   "nbconvert_exporter": "python",
   "pygments_lexer": "ipython3",
   "version": "3.9.12"
  }
 },
 "nbformat": 4,
 "nbformat_minor": 5
}
