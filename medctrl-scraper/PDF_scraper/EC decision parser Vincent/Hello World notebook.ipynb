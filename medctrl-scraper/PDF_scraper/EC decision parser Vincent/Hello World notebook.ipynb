{
 "cells": [
  {
   "cell_type": "code",
   "execution_count": 23,
   "id": "013b2328",
   "metadata": {},
   "outputs": [],
   "source": [
    "#install pyDF2\n",
    "#!pip install PyPDF2\n",
    "\n",
    "#this is also fitz\n",
    "#!pip install PyMuPDF"
   ]
  },
  {
   "cell_type": "code",
   "execution_count": null,
   "id": "ce72f29c",
   "metadata": {},
   "outputs": [],
   "source": [
    "# importing all the required modules\n",
    "#import PyPDF2 replaces with PyMuPDF\n",
    "import fitz\n",
    "import json\n",
    "import dateutil.parser\n",
    "import datetime\n",
    "import re"
   ]
  },
  {
   "cell_type": "code",
   "execution_count": 33,
   "id": "833f5961",
   "metadata": {},
   "outputs": [],
   "source": [
    "#Get all text from pdf\n",
    "doc = fitz.open('test.pdf')  # open document\n",
    "text = ''\n",
    "for page in doc:  # iterate the document pages\n",
    "    text += page.get_text() + \"\\n\"\n",
    "doc.close()\n",
    "\n",
    "#print(text)"
   ]
  },
  {
   "cell_type": "code",
   "execution_count": 7,
   "id": "408d5031",
   "metadata": {},
   "outputs": [],
   "source": [
    "#Returns the textsize and font of every line in a pdf.\n",
    "def getTextFormat(pdf):\n",
    "    results = []\n",
    "    for page in pdf:\n",
    "            dict = page.get_text(\"dict\")\n",
    "            blocks = dict[\"blocks\"]\n",
    "            for block in blocks:\n",
    "                if \"lines\" in block.keys():\n",
    "                    spans = block['lines']\n",
    "                    for span in spans:\n",
    "                        data = span['spans']\n",
    "                        for lines in data:\n",
    "                                results.append((lines['text'], lines['size'], lines['font']))\n",
    "    return results\n"
   ]
  },
  {
   "cell_type": "code",
   "execution_count": 8,
   "id": "02aaf6ee",
   "metadata": {},
   "outputs": [],
   "source": [
    "def GetSection(pdf, start, stop, fontSize, fonts):\n",
    "    section = findBetween(start,stop,pdf)\n",
    "    clean = filterFont(fontSize,fonts,section) \n",
    "\n",
    "    text = \"\"\n",
    "    for line in clean:\n",
    "        text += line + \"\\n\"\n",
    "        continue\n",
    "        \n",
    "    return text"
   ]
  },
  {
   "cell_type": "code",
   "execution_count": 9,
   "id": "ca64c336",
   "metadata": {},
   "outputs": [],
   "source": [
    "def filterFont(fontSize, fontList, section):\n",
    "    res = []\n",
    "    for (txt, size, font) in section:\n",
    "        #remove empty txt or only spaces\n",
    "        if txt == \" \" or txt.count(' ') == len(txt):\n",
    "            continue\n",
    "        \n",
    "        if round(size,1) in fontSize or fontSize == []:\n",
    "            if font in fontList or fontList == []:\n",
    "                res.append(txt)\n",
    "    return res"
   ]
  },
  {
   "cell_type": "code",
   "execution_count": 10,
   "id": "0500bc9a",
   "metadata": {},
   "outputs": [],
   "source": [
    "#returns all lines from and including start till stop for a given pdf\n",
    "\n",
    "def findBetween (start, stop, pdf):\n",
    "    results = []\n",
    "    save = False\n",
    "    for page in pdf:\n",
    "            dict = page.get_text(\"dict\")\n",
    "            blocks = dict[\"blocks\"]\n",
    "            for block in blocks:\n",
    "                if \"lines\" in block.keys():\n",
    "                    spans = block['lines']\n",
    "                    for span in spans:\n",
    "                        data = span['spans']\n",
    "                        for lines in data:\n",
    "                            if start in lines['text']: \n",
    "                                save = True\n",
    "                            if save:    \n",
    "                                results.append((lines['text'], lines['size'], lines['font']))\n",
    "                            if stop in lines['text']and save:\n",
    "                                return results\n",
    "    return results"
   ]
  },
  {
   "cell_type": "code",
   "execution_count": 11,
   "id": "b53c0447",
   "metadata": {},
   "outputs": [],
   "source": [
    "#nog kijken welke handiger is boven of deze.\n",
    "#returns all lines from and including start till stop for a given format\n",
    "\n",
    "def findBetweenFormat (start, stop, form, inclusive):\n",
    "    results = []\n",
    "    save = False\n",
    "    index = 0\n",
    "    for (txt, size, font) in form:\n",
    "        if start in txt or start == '': \n",
    "            save = True\n",
    "        if stop in txt and save:\n",
    "            if inclusive:\n",
    "                #includes stop as tail, remainder is without stop\n",
    "                results.append((txt, size, font)) \n",
    "            else:\n",
    "                index -= 1   #returns stop as header for remainder\n",
    "            return (results,form[index+1:])\n",
    "        if save:    \n",
    "            results.append((txt, size, font))\n",
    "        index += 1\n",
    "    return (results,[])"
   ]
  },
  {
   "cell_type": "code",
   "execution_count": 12,
   "id": "9d952029",
   "metadata": {
    "scrolled": true
   },
   "outputs": [],
   "source": [
    "#Scans and ordens EC orphan designation pdfs\n",
    "def getTableEC(pdf):\n",
    "    table = {'intro': dict.fromkeys(['front_page']),\n",
    "             'body' : dict.fromkeys(['main_text','P1','P2','P3']),\n",
    "             'decision' : dict.fromkeys(['dec_text','A1','A2','A3']) }\n",
    "\n",
    "    pdf_format = getTextFormat(pdf)\n",
    "\n",
    "    #intro\n",
    "    (content,rem) = findBetweenFormat('DECISION','AUTHENTIC',pdf_format,True)\n",
    "    table['intro']['front_page'] = filterFont([],[],content)\n",
    "\n",
    "    #filter second intro message\n",
    "    (_,rem) = findBetweenFormat('DECISION','AUTHENTIC',rem,True)\n",
    "\n",
    "    #content\n",
    "    (content,rem) = findBetweenFormat('COMMISSION','Whereas:',rem,True)\n",
    "    table['body']['main_text'] = filterFont([],[],content)\n",
    "\n",
    "    (content,rem) = findBetweenFormat('(1)','(2)',rem,False)\n",
    "    table['body']['P1'] = filterFont([],[],content)\n",
    "\n",
    "    (content,rem) = findBetweenFormat('(2)','(3)',rem,False)\n",
    "    table['body']['P2'] = filterFont([],[],content)\n",
    "\n",
    "    (content,rem) = findBetweenFormat('(3)','HAS ADOPTED THIS DECISION:',rem,False)\n",
    "    table['body']['P3'] = filterFont([],[],content)\n",
    "\n",
    "    #decision\n",
    "    (content,rem) = findBetweenFormat('HAS ADOPTED THIS DECISION:','Article 1',rem,False)\n",
    "    table['decision']['dec_text'] = filterFont([],[],content)\n",
    "\n",
    "    (content,rem) = findBetweenFormat('Article 1','Article 2',rem,False)\n",
    "    table['decision']['A1'] = filterFont([12],[],content)\n",
    "\n",
    "    (content,rem) = findBetweenFormat('Article 2','Article 3',rem,False)\n",
    "    table['decision']['A2'] = filterFont([12],[],content)\n",
    "\n",
    "    (content,rem) = findBetweenFormat('Article 3','Done at',rem,False)\n",
    "    table['decision']['A3'] = filterFont([12],[],content)\n",
    "    \n",
    "    return table\n"
   ]
  },
  {
   "cell_type": "code",
   "execution_count": 60,
   "id": "17249fdc",
   "metadata": {},
   "outputs": [],
   "source": [
    "def tableEC_getDate(table):\n",
    "    section = table['intro']['front_page']\n",
    "    for txt in section:\n",
    "        if 'of ' in txt:\n",
    "            return getDate(txt)\n",
    "    return getDate('')"
   ]
  },
  {
   "cell_type": "code",
   "execution_count": 84,
   "id": "2537eeb3",
   "metadata": {},
   "outputs": [],
   "source": [
    "def tableEC_getName(table):\n",
    "    section = table['intro']['front_page']\n",
    "    for txt in section:\n",
    "        if '\\\"' in txt:\n",
    "            return(re.search('\"([^\"]*)\"',txt)[0])\n",
    "    return \"Name Not Found\""
   ]
  },
  {
   "cell_type": "code",
   "execution_count": 58,
   "id": "802b4be4",
   "metadata": {},
   "outputs": [],
   "source": [
    "def getDate(txt):\n",
    "    try:\n",
    "        return dateutil.parser.parse(txt, fuzzy = True)\n",
    "    except:\n",
    "        return datetime.datetime(1980, 1, 1, 0, 0)"
   ]
  },
  {
   "cell_type": "code",
   "execution_count": 91,
   "id": "005afb5b",
   "metadata": {
    "scrolled": false
   },
   "outputs": [
    {
     "name": "stdout",
     "output_type": "stream",
     "text": [
      "2015-04-24 00:00:00\n",
      "\"Xenon\"\n",
      "{\n",
      "   \"intro\": {\n",
      "      \"front_page\": [\n",
      "         \"COMMISSION IMPLEMENTING DECISION \",\n",
      "         \"of 24.4.2015 \",\n",
      "         \"relating to the designation of \\\"Xenon\\\" as an orphan medicinal product under \",\n",
      "         \"Regulation (EC) No 141/2000 of the European Parliament and of the Council \",\n",
      "         \"(Text with EEA relevance) \",\n",
      "         \"(ONLY THE ENGLISH TEXT IS AUTHENTIC) \"\n",
      "      ]\n",
      "   },\n",
      "   \"body\": {\n",
      "      \"main_text\": [\n",
      "         \"THE EUROPEAN COMMISSION, \",\n",
      "         \"Having regard to the Treaty on the Functioning of the European Union, \",\n",
      "         \"Having regard to Regulation (EC) No 141/2000 of the European Parliament and of the Council \",\n",
      "         \"of 16 December 1999 on orphan medicinal products\",\n",
      "         \"1\",\n",
      "         \", and in particular the first sentence of \",\n",
      "         \"Article 5(8) thereof, \",\n",
      "         \"Having regard to the application submitted by Neuroprotexeon Ltd on 9 December 2014 under \",\n",
      "         \"Article 5(1) of Regulation (EC) No 141/2000, \",\n",
      "         \"Having regard to the favourable opinion of the European Medicines Agency, drawn up on 19 \",\n",
      "         \"March 2015 by the Committee for Orphan Medicinal Products and received by the Commission \",\n",
      "         \"on 26 March 2015, \",\n",
      "         \"Whereas: \"\n",
      "      ],\n",
      "      \"P1\": [\n",
      "         \"(1) \",\n",
      "         \"The application submitted by Neuroprotexeon Ltd concerning the medicinal product \",\n",
      "         \"\\u201cXenon\\u201d was validated on 19 January 2015 under Article 5(4) of Regulation (EC) No \",\n",
      "         \"141/2000. \"\n",
      "      ],\n",
      "      \"P2\": [\n",
      "         \"(2) \",\n",
      "         \"\\\"Xenon\\\" meets the designation criteria referred to in Article 3(1) of Regulation (EC) No \",\n",
      "         \"141/2000. \"\n",
      "      ],\n",
      "      \"P3\": [\n",
      "         \"(3) \",\n",
      "         \"The application should therefore be accepted, \"\n",
      "      ]\n",
      "   },\n",
      "   \"decision\": {\n",
      "      \"dec_text\": [\n",
      "         \"HAS ADOPTED THIS DECISION: \"\n",
      "      ],\n",
      "      \"A1\": [\n",
      "         \"Article 1 \",\n",
      "         \"The medicinal product \\u201cXenon\\u201d is designated as an orphan medicinal product for the indication: \",\n",
      "         \"Treatment of perinatal asphyxia. It shall be entered in the Community Register of Orphan \",\n",
      "         \"Medicinal Products under number EU/3/15/1483. \",\n",
      "         \"3 \"\n",
      "      ],\n",
      "      \"A2\": [\n",
      "         \"Article 2 \",\n",
      "         \"The European Medicines Agency shall make available to all interested parties the opinion of the \",\n",
      "         \"Committee on Orphan Medicinal Products referred to in this Decision. \"\n",
      "      ],\n",
      "      \"A3\": [\n",
      "         \"Article 3 \",\n",
      "         \"This Decision is addressed to Neuroprotexeon Ltd, 52 Princes Gate, Exhibition Road, London \",\n",
      "         \"SW7 2PG, United Kingdom. \"\n",
      "      ]\n",
      "   }\n",
      "}\n"
     ]
    }
   ],
   "source": [
    "\n",
    "pdf = fitz.open('test_xenon.pdf')  # open document\n",
    "\n",
    "table = getTableEC(pdf)  #get formated dictionary\n",
    "\n",
    "pdf.close() #close document\n",
    "\n",
    "print(tableEC_getDate(table))\n",
    "print(tableEC_getName(table))\n",
    "print(json.dumps(table, indent=3))"
   ]
  },
  {
   "cell_type": "raw",
   "id": "8dec270c",
   "metadata": {},
   "source": [
    "##mooi typen"
   ]
  }
 ],
 "metadata": {
  "kernelspec": {
   "display_name": "Python 3",
   "language": "python",
   "name": "python3"
  },
  "language_info": {
   "codemirror_mode": {
    "name": "ipython",
    "version": 3
   },
   "file_extension": ".py",
   "mimetype": "text/x-python",
   "name": "python",
   "nbconvert_exporter": "python",
   "pygments_lexer": "ipython3",
   "version": "3.8.8"
  }
 },
 "nbformat": 4,
 "nbformat_minor": 5
}
