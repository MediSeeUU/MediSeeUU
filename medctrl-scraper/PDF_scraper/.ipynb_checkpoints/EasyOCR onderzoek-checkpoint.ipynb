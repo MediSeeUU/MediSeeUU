{
 "cells": [
  {
   "cell_type": "code",
   "execution_count": 1,
   "id": "f20be0ca",
   "metadata": {},
   "outputs": [],
   "source": [
    "# # !python -V json\n",
    "# print(\"test1\")\n",
    "# !conda install ipykernel\n",
    "# print(\"test2\")\n",
    "# import os\n",
    "# print (os.environ['CONDA_DEFAULT_ENV'])\n",
    "\n",
    "# https://www.youtube.com/watch?v=pJ05omgQCMw"
   ]
  },
  {
   "cell_type": "code",
   "execution_count": 16,
   "id": "1f733b34",
   "metadata": {},
   "outputs": [
    {
     "name": "stdout",
     "output_type": "stream",
     "text": [
      "Requirement already satisfied: numpy in c:\\programdata\\anaconda3\\lib\\site-packages (1.21.5)\n",
      "^C\n"
     ]
    }
   ],
   "source": [
    "# Force packages in this environment\n",
    "import sys\n",
    "!{sys.executable} -m pip install numpy\n",
    "!python -m pip install easyocr"
   ]
  },
  {
   "cell_type": "code",
   "execution_count": 17,
   "id": "beb78e4f",
   "metadata": {},
   "outputs": [
    {
     "name": "stdout",
     "output_type": "stream",
     "text": [
      "Requirement already satisfied: easyocr in c:\\programdata\\anaconda3\\lib\\site-packages (1.6.1)\n",
      "Requirement already satisfied: scipy in c:\\programdata\\anaconda3\\lib\\site-packages (from easyocr) (1.7.3)\n",
      "Requirement already satisfied: Pillow in c:\\programdata\\anaconda3\\lib\\site-packages (from easyocr) (9.0.1)\n",
      "Requirement already satisfied: opencv-python-headless<=4.5.4.60 in c:\\programdata\\anaconda3\\lib\\site-packages (from easyocr) (4.5.4.60)\n",
      "Requirement already satisfied: python-bidi in c:\\programdata\\anaconda3\\lib\\site-packages (from easyocr) (0.4.2)\n",
      "Requirement already satisfied: torch in c:\\programdata\\anaconda3\\lib\\site-packages (from easyocr) (1.12.1)\n",
      "Requirement already satisfied: numpy in c:\\programdata\\anaconda3\\lib\\site-packages (from easyocr) (1.21.5)\n",
      "Requirement already satisfied: PyYAML in c:\\programdata\\anaconda3\\lib\\site-packages (from easyocr) (6.0)\n",
      "Requirement already satisfied: Shapely in c:\\programdata\\anaconda3\\lib\\site-packages (from easyocr) (1.8.4)\n",
      "Requirement already satisfied: torchvision>=0.5 in c:\\programdata\\anaconda3\\lib\\site-packages (from easyocr) (0.13.1)\n",
      "Requirement already satisfied: scikit-image in c:\\programdata\\anaconda3\\lib\\site-packages (from easyocr) (0.19.2)\n",
      "Requirement already satisfied: ninja in c:\\programdata\\anaconda3\\lib\\site-packages (from easyocr) (1.10.2.3)\n",
      "Requirement already satisfied: pyclipper in c:\\programdata\\anaconda3\\lib\\site-packages (from easyocr) (1.3.0.post3)\n",
      "Requirement already satisfied: typing-extensions in c:\\programdata\\anaconda3\\lib\\site-packages (from torchvision>=0.5->easyocr) (4.1.1)\n",
      "Requirement already satisfied: requests in c:\\programdata\\anaconda3\\lib\\site-packages (from torchvision>=0.5->easyocr) (2.27.1)\n",
      "Requirement already satisfied: six in c:\\programdata\\anaconda3\\lib\\site-packages (from python-bidi->easyocr) (1.16.0)\n",
      "Requirement already satisfied: imageio>=2.4.1 in c:\\programdata\\anaconda3\\lib\\site-packages (from scikit-image->easyocr) (2.9.0)\n",
      "Requirement already satisfied: packaging>=20.0 in c:\\programdata\\anaconda3\\lib\\site-packages (from scikit-image->easyocr) (21.3)\n",
      "Requirement already satisfied: PyWavelets>=1.1.1 in c:\\programdata\\anaconda3\\lib\\site-packages (from scikit-image->easyocr) (1.3.0)\n",
      "Requirement already satisfied: tifffile>=2019.7.26 in c:\\programdata\\anaconda3\\lib\\site-packages (from scikit-image->easyocr) (2021.7.2)\n",
      "Requirement already satisfied: networkx>=2.2 in c:\\programdata\\anaconda3\\lib\\site-packages (from scikit-image->easyocr) (2.7.1)\n",
      "Requirement already satisfied: pyparsing!=3.0.5,>=2.0.2 in c:\\programdata\\anaconda3\\lib\\site-packages (from packaging>=20.0->scikit-image->easyocr) (3.0.4)\n",
      "Requirement already satisfied: certifi>=2017.4.17 in c:\\programdata\\anaconda3\\lib\\site-packages (from requests->torchvision>=0.5->easyocr) (2021.10.8)\n",
      "Requirement already satisfied: urllib3<1.27,>=1.21.1 in c:\\programdata\\anaconda3\\lib\\site-packages (from requests->torchvision>=0.5->easyocr) (1.26.9)\n",
      "Requirement already satisfied: charset-normalizer~=2.0.0 in c:\\programdata\\anaconda3\\lib\\site-packages (from requests->torchvision>=0.5->easyocr) (2.0.4)\n",
      "Requirement already satisfied: idna<4,>=2.5 in c:\\programdata\\anaconda3\\lib\\site-packages (from requests->torchvision>=0.5->easyocr) (3.3)\n"
     ]
    }
   ],
   "source": [
    "!pip install easyocr"
   ]
  },
  {
   "cell_type": "code",
   "execution_count": 3,
   "id": "daaf4896",
   "metadata": {
    "scrolled": true
   },
   "outputs": [],
   "source": [
    "# !where python"
   ]
  },
  {
   "cell_type": "code",
   "execution_count": 4,
   "id": "b3bfb050",
   "metadata": {},
   "outputs": [],
   "source": [
    "# !jupyter kernelspec list"
   ]
  },
  {
   "cell_type": "code",
   "execution_count": 5,
   "id": "879de281",
   "metadata": {},
   "outputs": [],
   "source": [
    "# !jupyter kernelspec list --json"
   ]
  },
  {
   "cell_type": "code",
   "execution_count": 6,
   "id": "ed9d33a7",
   "metadata": {},
   "outputs": [],
   "source": [
    "# import sys\n",
    "# print(sys.path)"
   ]
  },
  {
   "cell_type": "code",
   "execution_count": 7,
   "id": "4b15547b",
   "metadata": {},
   "outputs": [],
   "source": [
    "# !pip list\n",
    "# !python --version\n",
    "# !where python"
   ]
  },
  {
   "cell_type": "code",
   "execution_count": 8,
   "id": "a51deb0d",
   "metadata": {},
   "outputs": [],
   "source": [
    "# !pip install folium"
   ]
  },
  {
   "cell_type": "code",
   "execution_count": 14,
   "id": "8b6347de",
   "metadata": {},
   "outputs": [
    {
     "name": "stdout",
     "output_type": "stream",
     "text": [
      "Requirement already satisfied: easyOCR in c:\\programdata\\anaconda3\\lib\\site-packages (1.6.1)\n",
      "Requirement already satisfied: ninja in c:\\programdata\\anaconda3\\lib\\site-packages (from easyOCR) (1.10.2.3)\n",
      "Requirement already satisfied: scikit-image in c:\\programdata\\anaconda3\\lib\\site-packages (from easyOCR) (0.19.2)\n",
      "Requirement already satisfied: numpy in c:\\programdata\\anaconda3\\lib\\site-packages (from easyOCR) (1.21.5)\n",
      "Requirement already satisfied: opencv-python-headless<=4.5.4.60 in c:\\programdata\\anaconda3\\lib\\site-packages (from easyOCR) (4.5.4.60)\n",
      "Requirement already satisfied: Shapely in c:\\programdata\\anaconda3\\lib\\site-packages (from easyOCR) (1.8.4)\n",
      "Requirement already satisfied: PyYAML in c:\\programdata\\anaconda3\\lib\\site-packages (from easyOCR) (6.0)\n",
      "Requirement already satisfied: torchvision>=0.5 in c:\\programdata\\anaconda3\\lib\\site-packages (from easyOCR) (0.13.1)\n",
      "Requirement already satisfied: pyclipper in c:\\programdata\\anaconda3\\lib\\site-packages (from easyOCR) (1.3.0.post3)\n",
      "Requirement already satisfied: Pillow in c:\\programdata\\anaconda3\\lib\\site-packages (from easyOCR) (9.0.1)\n",
      "Requirement already satisfied: torch in c:\\programdata\\anaconda3\\lib\\site-packages (from easyOCR) (1.12.1)\n",
      "Requirement already satisfied: python-bidi in c:\\programdata\\anaconda3\\lib\\site-packages (from easyOCR) (0.4.2)\n",
      "Requirement already satisfied: scipy in c:\\programdata\\anaconda3\\lib\\site-packages (from easyOCR) (1.7.3)\n",
      "Requirement already satisfied: requests in c:\\programdata\\anaconda3\\lib\\site-packages (from torchvision>=0.5->easyOCR) (2.27.1)\n",
      "Requirement already satisfied: typing-extensions in c:\\programdata\\anaconda3\\lib\\site-packages (from torchvision>=0.5->easyOCR) (4.1.1)\n",
      "Requirement already satisfied: six in c:\\programdata\\anaconda3\\lib\\site-packages (from python-bidi->easyOCR) (1.16.0)\n",
      "Requirement already satisfied: networkx>=2.2 in c:\\programdata\\anaconda3\\lib\\site-packages (from scikit-image->easyOCR) (2.7.1)\n",
      "Requirement already satisfied: packaging>=20.0 in c:\\programdata\\anaconda3\\lib\\site-packages (from scikit-image->easyOCR) (21.3)\n",
      "Requirement already satisfied: PyWavelets>=1.1.1 in c:\\programdata\\anaconda3\\lib\\site-packages (from scikit-image->easyOCR) (1.3.0)\n",
      "Requirement already satisfied: imageio>=2.4.1 in c:\\programdata\\anaconda3\\lib\\site-packages (from scikit-image->easyOCR) (2.9.0)\n",
      "Requirement already satisfied: tifffile>=2019.7.26 in c:\\programdata\\anaconda3\\lib\\site-packages (from scikit-image->easyOCR) (2021.7.2)\n",
      "Requirement already satisfied: pyparsing!=3.0.5,>=2.0.2 in c:\\programdata\\anaconda3\\lib\\site-packages (from packaging>=20.0->scikit-image->easyOCR) (3.0.4)\n",
      "Requirement already satisfied: charset-normalizer~=2.0.0 in c:\\programdata\\anaconda3\\lib\\site-packages (from requests->torchvision>=0.5->easyOCR) (2.0.4)\n",
      "Requirement already satisfied: idna<4,>=2.5 in c:\\programdata\\anaconda3\\lib\\site-packages (from requests->torchvision>=0.5->easyOCR) (3.3)\n",
      "Requirement already satisfied: certifi>=2017.4.17 in c:\\programdata\\anaconda3\\lib\\site-packages (from requests->torchvision>=0.5->easyOCR) (2021.10.8)\n",
      "Requirement already satisfied: urllib3<1.27,>=1.21.1 in c:\\programdata\\anaconda3\\lib\\site-packages (from requests->torchvision>=0.5->easyOCR) (1.26.9)\n"
     ]
    }
   ],
   "source": [
    "!pip install easyOCR"
   ]
  },
  {
   "cell_type": "code",
   "execution_count": 10,
   "id": "da00ae7f",
   "metadata": {
    "scrolled": true
   },
   "outputs": [
    {
     "name": "stdout",
     "output_type": "stream",
     "text": [
      "Requirement already satisfied: pip in c:\\programdata\\anaconda3\\lib\\site-packages (22.2.2)\n",
      "Note: you may need to restart the kernel to use updated packages.\n",
      "Looking in indexes: https://pypi.org/simple, https://download.pytorch.org/whl/cu116\n",
      "Requirement already satisfied: torch in c:\\programdata\\anaconda3\\lib\\site-packages (1.12.1)\n",
      "Requirement already satisfied: torchvision in c:\\programdata\\anaconda3\\lib\\site-packages (0.13.1)\n",
      "Collecting torchaudio\n",
      "  Downloading https://download.pytorch.org/whl/cu116/torchaudio-0.12.1%2Bcu116-cp39-cp39-win_amd64.whl (1.2 MB)\n",
      "     ---------------------------------------- 1.2/1.2 MB 9.5 MB/s eta 0:00:00\n",
      "Requirement already satisfied: typing-extensions in c:\\programdata\\anaconda3\\lib\\site-packages (from torch) (4.1.1)\n",
      "Requirement already satisfied: numpy in c:\\programdata\\anaconda3\\lib\\site-packages (from torchvision) (1.21.5)\n",
      "Requirement already satisfied: pillow!=8.3.*,>=5.3.0 in c:\\programdata\\anaconda3\\lib\\site-packages (from torchvision) (9.0.1)\n",
      "Requirement already satisfied: requests in c:\\programdata\\anaconda3\\lib\\site-packages (from torchvision) (2.27.1)\n",
      "Requirement already satisfied: urllib3<1.27,>=1.21.1 in c:\\programdata\\anaconda3\\lib\\site-packages (from requests->torchvision) (1.26.9)\n",
      "Requirement already satisfied: certifi>=2017.4.17 in c:\\programdata\\anaconda3\\lib\\site-packages (from requests->torchvision) (2021.10.8)\n",
      "Requirement already satisfied: idna<4,>=2.5 in c:\\programdata\\anaconda3\\lib\\site-packages (from requests->torchvision) (3.3)\n",
      "Requirement already satisfied: charset-normalizer~=2.0.0 in c:\\programdata\\anaconda3\\lib\\site-packages (from requests->torchvision) (2.0.4)\n",
      "Installing collected packages: torchaudio\n",
      "Successfully installed torchaudio-0.12.1+cu116\n",
      "Note: you may need to restart the kernel to use updated packages.\n",
      "Requirement already satisfied: easyOCR in c:\\programdata\\anaconda3\\lib\\site-packages (1.6.1)\n",
      "Requirement already satisfied: torch in c:\\programdata\\anaconda3\\lib\\site-packages (from easyOCR) (1.12.1)\n",
      "Requirement already satisfied: scikit-image in c:\\programdata\\anaconda3\\lib\\site-packages (from easyOCR) (0.19.2)\n",
      "Requirement already satisfied: opencv-python-headless<=4.5.4.60 in c:\\programdata\\anaconda3\\lib\\site-packages (from easyOCR) (4.5.4.60)\n",
      "Requirement already satisfied: Shapely in c:\\programdata\\anaconda3\\lib\\site-packages (from easyOCR) (1.8.4)\n",
      "Requirement already satisfied: pyclipper in c:\\programdata\\anaconda3\\lib\\site-packages (from easyOCR) (1.3.0.post3)\n",
      "Requirement already satisfied: scipy in c:\\programdata\\anaconda3\\lib\\site-packages (from easyOCR) (1.7.3)\n",
      "Requirement already satisfied: ninja in c:\\programdata\\anaconda3\\lib\\site-packages (from easyOCR) (1.10.2.3)\n",
      "Requirement already satisfied: numpy in c:\\programdata\\anaconda3\\lib\\site-packages (from easyOCR) (1.21.5)\n",
      "Requirement already satisfied: python-bidi in c:\\programdata\\anaconda3\\lib\\site-packages (from easyOCR) (0.4.2)\n",
      "Requirement already satisfied: torchvision>=0.5 in c:\\programdata\\anaconda3\\lib\\site-packages (from easyOCR) (0.13.1)\n",
      "Requirement already satisfied: PyYAML in c:\\programdata\\anaconda3\\lib\\site-packages (from easyOCR) (6.0)\n",
      "Requirement already satisfied: Pillow in c:\\programdata\\anaconda3\\lib\\site-packages (from easyOCR) (9.0.1)\n",
      "Requirement already satisfied: typing-extensions in c:\\programdata\\anaconda3\\lib\\site-packages (from torchvision>=0.5->easyOCR) (4.1.1)\n",
      "Requirement already satisfied: requests in c:\\programdata\\anaconda3\\lib\\site-packages (from torchvision>=0.5->easyOCR) (2.27.1)\n",
      "Requirement already satisfied: six in c:\\programdata\\anaconda3\\lib\\site-packages (from python-bidi->easyOCR) (1.16.0)\n",
      "Requirement already satisfied: PyWavelets>=1.1.1 in c:\\programdata\\anaconda3\\lib\\site-packages (from scikit-image->easyOCR) (1.3.0)\n",
      "Requirement already satisfied: imageio>=2.4.1 in c:\\programdata\\anaconda3\\lib\\site-packages (from scikit-image->easyOCR) (2.9.0)\n",
      "Requirement already satisfied: networkx>=2.2 in c:\\programdata\\anaconda3\\lib\\site-packages (from scikit-image->easyOCR) (2.7.1)\n",
      "Requirement already satisfied: packaging>=20.0 in c:\\programdata\\anaconda3\\lib\\site-packages (from scikit-image->easyOCR) (21.3)\n",
      "Requirement already satisfied: tifffile>=2019.7.26 in c:\\programdata\\anaconda3\\lib\\site-packages (from scikit-image->easyOCR) (2021.7.2)\n",
      "Requirement already satisfied: pyparsing!=3.0.5,>=2.0.2 in c:\\programdata\\anaconda3\\lib\\site-packages (from packaging>=20.0->scikit-image->easyOCR) (3.0.4)\n",
      "Requirement already satisfied: certifi>=2017.4.17 in c:\\programdata\\anaconda3\\lib\\site-packages (from requests->torchvision>=0.5->easyOCR) (2021.10.8)\n",
      "Requirement already satisfied: idna<4,>=2.5 in c:\\programdata\\anaconda3\\lib\\site-packages (from requests->torchvision>=0.5->easyOCR) (3.3)\n",
      "Requirement already satisfied: urllib3<1.27,>=1.21.1 in c:\\programdata\\anaconda3\\lib\\site-packages (from requests->torchvision>=0.5->easyOCR) (1.26.9)\n",
      "Requirement already satisfied: charset-normalizer~=2.0.0 in c:\\programdata\\anaconda3\\lib\\site-packages (from requests->torchvision>=0.5->easyOCR) (2.0.4)\n",
      "Note: you may need to restart the kernel to use updated packages.\n"
     ]
    }
   ],
   "source": [
    "# # current tutorial: https://mlhive.com/2022/04/optical-character-recognition-using-easyocr-in-python\n",
    "# # all installs\n",
    "%pip install --upgrade pip\n",
    "\n",
    "# # for gpu usage (multithreading) install torch coda version\n",
    "%pip install torch torchvision torchaudio --extra-index-url https://download.pytorch.org/whl/cu116\n",
    "# #test\n",
    "# # !pip install opencv-python-headless==4.1.2.30    \n",
    "# # installing latest release from jaideai    \n",
    "%pip install easyOCR"
   ]
  },
  {
   "cell_type": "code",
   "execution_count": 11,
   "id": "522daabb",
   "metadata": {
    "scrolled": true
   },
   "outputs": [],
   "source": [
    "# !pip3 install torch torchvision torchaudio --extra-index-url https://download.pytorch.org/whl/cu116"
   ]
  },
  {
   "cell_type": "code",
   "execution_count": 12,
   "id": "8d1422bd",
   "metadata": {},
   "outputs": [
    {
     "name": "stdout",
     "output_type": "stream",
     "text": [
      "Collecting opencv-python==4.5.5.64\n",
      "  Downloading opencv_python-4.5.5.64-cp36-abi3-win_amd64.whl (35.4 MB)\n",
      "     --------------------------------------- 35.4/35.4 MB 11.9 MB/s eta 0:00:00\n",
      "Requirement already satisfied: numpy>=1.17.3 in c:\\programdata\\anaconda3\\lib\\site-packages (from opencv-python==4.5.5.64) (1.21.5)\n",
      "Installing collected packages: opencv-python\n",
      "  Attempting uninstall: opencv-python\n",
      "    Found existing installation: opencv-python 4.6.0.66\n",
      "    Uninstalling opencv-python-4.6.0.66:\n",
      "      Successfully uninstalled opencv-python-4.6.0.66\n",
      "Successfully installed opencv-python-4.5.5.64\n"
     ]
    }
   ],
   "source": [
    "!pip install opencv-python==4.5.5.64"
   ]
  },
  {
   "cell_type": "code",
   "execution_count": null,
   "id": "ff014165",
   "metadata": {},
   "outputs": [],
   "source": [
    "# importing packages (easyocr)\n",
    "import easyocr\n",
    "\n",
    "# specifying package details\n",
    "# reader = easyocr.Reader(['en'])\n",
    "\n",
    "# image path\n"
   ]
  },
  {
   "cell_type": "code",
   "execution_count": null,
   "id": "50e25946",
   "metadata": {},
   "outputs": [],
   "source": []
  }
 ],
 "metadata": {
  "kernelspec": {
   "display_name": "Python 3 (ipykernel)",
   "language": "python",
   "name": "python3"
  },
  "language_info": {
   "codemirror_mode": {
    "name": "ipython",
    "version": 3
   },
   "file_extension": ".py",
   "mimetype": "text/x-python",
   "name": "python",
   "nbconvert_exporter": "python",
   "pygments_lexer": "ipython3",
   "version": "3.9.12"
  },
  "vscode": {
   "interpreter": {
    "hash": "504fa6afcb780ec8af08059103a0f6b68c906f3c6e8d6db2474e01ca51f60695"
   }
  }
 },
 "nbformat": 4,
 "nbformat_minor": 5
}
