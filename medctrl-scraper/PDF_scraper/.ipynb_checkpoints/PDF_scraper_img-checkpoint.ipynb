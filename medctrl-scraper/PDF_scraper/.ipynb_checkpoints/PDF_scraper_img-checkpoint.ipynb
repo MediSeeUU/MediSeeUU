{
 "cells": [
  {
   "cell_type": "code",
   "execution_count": 1,
   "metadata": {
    "colab": {
     "base_uri": "https://localhost:8080/"
    },
    "id": "DnIxhukNJShg",
    "outputId": "9c5954dc-d3b9-4a89-862d-499af9205d71"
   },
   "outputs": [
    {
     "name": "stdout",
     "output_type": "stream",
     "text": [
      "Requirement already satisfied: pip in c:\\programdata\\anaconda3\\lib\\site-packages (22.2.2)\n",
      "Requirement already satisfied: pymupdf in c:\\programdata\\anaconda3\\lib\\site-packages (1.20.2)\n",
      "Requirement already satisfied: tqdm in c:\\programdata\\anaconda3\\lib\\site-packages (4.64.0)\n",
      "Requirement already satisfied: colorama in c:\\programdata\\anaconda3\\lib\\site-packages (from tqdm) (0.4.4)\n",
      "Requirement already satisfied: tqdm in c:\\programdata\\anaconda3\\lib\\site-packages (4.64.0)\n",
      "Requirement already satisfied: colorama in c:\\programdata\\anaconda3\\lib\\site-packages (from tqdm) (0.4.4)\n",
      "Requirement already satisfied: pytesseract in c:\\programdata\\anaconda3\\lib\\site-packages (0.3.10)\n",
      "Requirement already satisfied: packaging>=21.3 in c:\\programdata\\anaconda3\\lib\\site-packages (from pytesseract) (21.3)\n",
      "Requirement already satisfied: Pillow>=8.0.0 in c:\\programdata\\anaconda3\\lib\\site-packages (from pytesseract) (9.0.1)\n",
      "Requirement already satisfied: pyparsing!=3.0.5,>=2.0.2 in c:\\programdata\\anaconda3\\lib\\site-packages (from packaging>=21.3->pytesseract) (3.0.4)\n",
      "Requirement already satisfied: pillow in c:\\programdata\\anaconda3\\lib\\site-packages (9.0.1)\n"
     ]
    }
   ],
   "source": [
    "!pip install --upgrade pip\n",
    "!pip install --upgrade pymupdf\n",
    "!pip install tqdm\n",
    "\n",
    "#Tesseract installs\n",
    "!pip install pytesseract\n",
    "!pip install pillow"
   ]
  },
  {
   "cell_type": "code",
   "execution_count": 1,
   "metadata": {
    "id": "qvZr6djRNnVZ"
   },
   "outputs": [],
   "source": [
    "import io\n",
    "from PIL import Image\n",
    "import os\n",
    "import fitz\n",
    "from tqdm import tqdm"
   ]
  },
  {
   "cell_type": "code",
   "execution_count": 2,
   "metadata": {
    "colab": {
     "base_uri": "https://localhost:8080/"
    },
    "id": "addmo8YnJj4G",
    "outputId": "4a4e1030-6f7d-4525-8ce3-ea4ab93a1eeb"
   },
   "outputs": [
    {
     "name": "stderr",
     "output_type": "stream",
     "text": [
      "pages:   0%|                                                                                     | 0/8 [00:00<?, ?it/s]\n",
      "page_images: 0it [00:00, ?it/s]\u001b[A\n",
      "\n",
      "page_images: 0it [00:00, ?it/s]\u001b[A\n",
      "\n",
      "page_images: 100%|███████████████████████████████████████████████████████████████████████| 1/1 [00:00<00:00, 23.73it/s]\u001b[A\n",
      "\n",
      "page_images: 0it [00:00, ?it/s]\u001b[A\n",
      "\n",
      "page_images: 0it [00:00, ?it/s]\u001b[A\n",
      "\n",
      "page_images: 0it [00:00, ?it/s]\u001b[A\n",
      "\n",
      "page_images: 100%|███████████████████████████████████████████████████████████████████████| 4/4 [00:00<00:00, 65.76it/s]\u001b[A\n",
      "pages:  88%|███████████████████████████████████████████████████████████████████▍         | 7/8 [00:00<00:00, 63.08it/s]\n",
      "page_images: 0it [00:00, ?it/s]\u001b[A\n",
      "pages: 100%|█████████████████████████████████████████████████████████████████████████████| 8/8 [00:00<00:00, 64.84it/s]\n",
      "pages:   0%|                                                                                    | 0/13 [00:00<?, ?it/s]\n",
      "page_images: 0it [00:00, ?it/s]\u001b[A\n",
      "\n",
      "page_images: 0it [00:00, ?it/s]\u001b[A\n",
      "\n",
      "page_images: 0it [00:00, ?it/s]\u001b[A\n",
      "\n",
      "page_images: 0it [00:00, ?it/s]\u001b[A\n",
      "\n",
      "page_images: 0it [00:00, ?it/s]\u001b[A\n",
      "\n",
      "page_images: 0it [00:00, ?it/s]\u001b[A\n",
      "\n",
      "page_images: 0it [00:00, ?it/s]\u001b[A\n",
      "\n",
      "page_images: 100%|███████████████████████████████████████████████████████████████████████| 1/1 [00:00<00:00, 16.70it/s]\u001b[A\n",
      "\n",
      "page_images: 0it [00:00, ?it/s]\u001b[A\n",
      "\n",
      "page_images: 0it [00:00, ?it/s]\u001b[A\n",
      "\n",
      "page_images: 0it [00:00, ?it/s]\u001b[A\n",
      "\n",
      "page_images: 0it [00:00, ?it/s]\u001b[A\n",
      "\n",
      "page_images: 0it [00:00, ?it/s]\u001b[A\n",
      "pages: 100%|██████████████████████████████████████████████████████████████████████████| 13/13 [00:00<00:00, 139.97it/s]"
     ]
    },
    {
     "name": "stdout",
     "output_type": "stream",
     "text": [
      "Done!\n"
     ]
    },
    {
     "name": "stderr",
     "output_type": "stream",
     "text": [
      "\n"
     ]
    }
   ],
   "source": [
    "workdir = \"PDF\"\n",
    "\n",
    "for each_path in os.listdir(workdir):\n",
    "    if \".pdf\" in each_path:\n",
    "        doc = fitz.Document((os.path.join(workdir, each_path)))\n",
    "\n",
    "        for i in tqdm(range(len(doc)), desc=\"pages\"):\n",
    "            for img in tqdm(doc.get_page_images(i), desc=\"page_images\"):\n",
    "                xref = img[0]\n",
    "                image = doc.extract_image(xref)\n",
    "                pix = fitz.Pixmap(doc, xref)\n",
    "                pix.save(os.path.join(workdir, \"%s_p%s-%s.png\" % (each_path[:-4], i, xref)))\n",
    "                \n",
    "print(\"Done!\")"
   ]
  },
  {
   "cell_type": "code",
   "execution_count": 4,
   "metadata": {},
   "outputs": [
    {
     "ename": "NameError",
     "evalue": "name 'imageToString' is not defined",
     "output_type": "error",
     "traceback": [
      "\u001b[1;31m---------------------------------------------------------------------------\u001b[0m",
      "\u001b[1;31mNameError\u001b[0m                                 Traceback (most recent call last)",
      "Input \u001b[1;32mIn [4]\u001b[0m, in \u001b[0;36m<cell line: 5>\u001b[1;34m()\u001b[0m\n\u001b[0;32m      8\u001b[0m img \u001b[38;5;241m=\u001b[39m Image\u001b[38;5;241m.\u001b[39mopen(os\u001b[38;5;241m.\u001b[39mpath\u001b[38;5;241m.\u001b[39mjoin(workdir, each_path))\n\u001b[0;32m      9\u001b[0m \u001b[38;5;66;03m#Extract text from image\u001b[39;00m\n\u001b[1;32m---> 10\u001b[0m text \u001b[38;5;241m=\u001b[39m \u001b[43mimageToString\u001b[49m(img)\n\u001b[0;32m     11\u001b[0m ProcessText(text)\n",
      "\u001b[1;31mNameError\u001b[0m: name 'imageToString' is not defined"
     ]
    }
   ],
   "source": [
    "## Poging 2: https://nicholastsmith.wordpress.com/2017/10/14/deep-learning-ocr-using-tensorflow-and-python/\n",
    "\n",
    "\n",
    "\n",
    "for each_path in os.listdir(workdir):\n",
    "    if \".png\" in each_path:\n",
    "        #Open image with PIL\n",
    "        img = Image.open(os.path.join(workdir, each_path))\n",
    "        #Extract text from image\n",
    "        text = imageToString(img)\n",
    "        ProcessText(text)"
   ]
  }
 ],
 "metadata": {
  "colab": {
   "collapsed_sections": [],
   "provenance": [],
   "toc_visible": true
  },
  "kernelspec": {
   "display_name": "Python 3 (ipykernel)",
   "language": "python",
   "name": "python3"
  },
  "language_info": {
   "codemirror_mode": {
    "name": "ipython",
    "version": 3
   },
   "file_extension": ".py",
   "mimetype": "text/x-python",
   "name": "python",
   "nbconvert_exporter": "python",
   "pygments_lexer": "ipython3",
   "version": "3.9.12"
  }
 },
 "nbformat": 4,
 "nbformat_minor": 1
}
