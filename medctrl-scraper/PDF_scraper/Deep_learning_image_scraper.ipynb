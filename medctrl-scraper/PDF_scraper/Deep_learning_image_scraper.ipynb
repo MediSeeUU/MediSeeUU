{
 "cells": [
  {
   "cell_type": "code",
   "execution_count": 1,
   "id": "5b2501a8",
   "metadata": {},
   "outputs": [],
   "source": [
    "## Poging 2: https://nicholastsmith.wordpress.com/2017/10/14/deep-learning-ocr-using-tensorflow-and-python/\n",
    "## Zet afbeeldingen om naar text m.b.v. deep learning\n",
    "\n",
    "import os\n",
    "workdir = \"PDF\"\n",
    "\n",
    "for each_path in os.listdir(workdir):\n",
    "    if \".png\" in each_path:\n",
    "        #Open image with PIL\n",
    "        img = Image.open(os.path.join(workdir, each_path))\n",
    "        #Extract text from image\n",
    "        text = imageToString(img)\n",
    "        ProcessText(text)"
   ]
  },
  {
   "cell_type": "code",
   "execution_count": null,
   "id": "e6cc631e",
   "metadata": {},
   "outputs": [],
   "source": [
    "import numpy as np\n",
    "import os\n",
    "import string\n",
    "import sys\n",
    "from skimage.io import imread\n",
    "from sklearn.model_selection import ShuffleSplit\n",
    "from TFANN import ANNC\n",
    " \n",
    "def LoadData(FP = '.'):\n",
    "    '''\n",
    "    Loads the OCR dataset. A is matrix of images (NIMG, Height, Width, Channel).\n",
    "    Y is matrix of characters (NIMG, MAX_CHAR)\n",
    "    FP:     Path to OCR data folder\n",
    "    return: Data Matrix, Target Matrix, Target Strings\n",
    "    '''\n",
    "    TFP = os.path.join(FP, 'Train.csv')\n",
    "    A, Y, T, FN = [], [], [], []\n",
    "    with open(TFP) as F:\n",
    "        for Li in F:\n",
    "            FNi, Yi = Li.strip().split(',')                     #filename,string\n",
    "            T.append(Yi)\n",
    "            A.append(imread(os.path.join(FP, 'Out', FNi)))\n",
    "            Y.append(list(Yi) + [' '] * (MAX_CHAR - len(Yi)))   #Pad strings with spaces\n",
    "            FN.append(FNi)\n",
    "    return np.stack(A), np.stack(Y), np.stack(T), np.stack(FN)"
   ]
  }
 ],
 "metadata": {
  "kernelspec": {
   "display_name": "Python 3 (ipykernel)",
   "language": "python",
   "name": "python3"
  },
  "language_info": {
   "codemirror_mode": {
    "name": "ipython",
    "version": 3
   },
   "file_extension": ".py",
   "mimetype": "text/x-python",
   "name": "python",
   "nbconvert_exporter": "python",
   "pygments_lexer": "ipython3",
   "version": "3.9.12"
  }
 },
 "nbformat": 4,
 "nbformat_minor": 5
}
