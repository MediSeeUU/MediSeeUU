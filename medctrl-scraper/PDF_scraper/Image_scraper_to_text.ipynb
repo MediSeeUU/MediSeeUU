{
 "cells": [
  {
   "cell_type": "code",
   "execution_count": 3,
   "id": "96072584",
   "metadata": {},
   "outputs": [],
   "source": [
    "## Tesseract poging 1: Zet afbeeldingen om naar text en print deze\n",
    "from PIL import Image\n",
    "from pytesseract import pytesseract\n",
    "import os\n",
    "\n",
    "#Define path to tessaract.exe\n",
    "path_to_tesseract = r'C:\\Program Files\\Tesseract-OCR\\tesseract.exe'\n",
    "\n",
    "#Point tessaract_cmd to tessaract.exe\n",
    "pytesseract.tesseract_cmd = path_to_tesseract\n",
    "\n",
    "\n",
    "workdir = \"PDF\"\n",
    "#os.path.join(workdir, each_path)\n",
    "\n",
    "for each_path in os.listdir(workdir):\n",
    "    if \".png\" in each_path:\n",
    "        #Open image with PIL\n",
    "        img = Image.open(os.path.join(workdir, each_path))\n",
    "        #Extract text from image\n",
    "        text = pytesseract.image_to_string(img)\n",
    "        print(text)"
   ]
  }
 ],
 "metadata": {
  "kernelspec": {
   "display_name": "Python 3 (ipykernel)",
   "language": "python",
   "name": "python3"
  },
  "language_info": {
   "codemirror_mode": {
    "name": "ipython",
    "version": 3
   },
   "file_extension": ".py",
   "mimetype": "text/x-python",
   "name": "python",
   "nbconvert_exporter": "python",
   "pygments_lexer": "ipython3",
   "version": "3.9.12"
  }
 },
 "nbformat": 4,
 "nbformat_minor": 5
}
